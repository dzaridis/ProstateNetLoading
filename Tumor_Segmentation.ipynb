{
 "cells": [
  {
   "cell_type": "code",
   "execution_count": null,
   "metadata": {},
   "outputs": [],
   "source": [
    "import numpy as np, pandas as pd, matplotlib.pyplot as plt, plotly.express as px,os, nibabel as nib, cv2 as cv, tensorflow as tf, sklearn, tensorflow_addons as tfa\n",
    "import PCA_Utilities\n",
    "def Preprocessing_Steps(Pat_Dict,WG_Dict,Tumor_Dict):\n",
    "    print(\"Initiating Data Cleanse\")\n",
    "    Pat_Dict,WG_Dict = PCA_Utilities.Preprocessing.Data_Normalization.Normalization(Pat_Dict,WG_Dict).Data_cleanse()\n",
    "    print(\"Initiating Dilation of The whole gland\")\n",
    "    WG_Dict  = PCA_Utilities.Preprocessing.Data_Normalization.Normalization(WG_Dict,_).dilation_alg(20)\n",
    "    print(\"Initiating the Distinction of the WG area from the image\")\n",
    "    Pat_Dict = PCA_Utilities.Preprocessing.Data_Normalization.Normalization(Pat_Dict,WG_Dict).Keep_area_of_interest()\n",
    "    print(\"Initiating the cropping around the prostate process\")\n",
    "    Pat_Dict,Tumor_Dict = PCA_Utilities.Data_Normalization.Normalization(Pat_Dict,Tumor_Dict).crop()\n",
    "    print(\"Initiating the Spatial resizing of patients and annotations\")\n",
    "    Pat_Dict   = PCA_Utilities.Data_Normalization.Normalization(Pat_Dict,_).resize(128,128,False)\n",
    "    Tumor_Dict = PCA_Utilities.Data_Normalization.Normalization(Tumor_Dict,_).resize(128,128,True)\n",
    "    print(\"Initiating 8Bit Normalization\")\n",
    "    Pat_Dict = PCA_Utilities.Data_Normalization.Normalization(Pat_Dict,_).norm8bit()\n",
    "    print(\"Initiating the Axial resizing of patients and annotations\")\n",
    "    Pat_Dict   = PCA_Utilities.Data_Normalization.Normalization(Pat_Dict,_).resize_3D(16,128,128)\n",
    "    Tumor_Dict = PCA_Utilities.Data_Normalization.Normalization(Tumor_Dict,_).resize_3D(16,128,128)\n",
    "    return Pat_Dict,Tumor_Dict, WG_Dict"
   ]
  },
  {
   "cell_type": "code",
   "execution_count": null,
   "metadata": {},
   "outputs": [],
   "source": [
    "# patients Loading\n",
    "base_path = \"/media/nst/HDD1/DIMITRIS_DEEP_LEARNING/DATASETS_UPDATED/DATASETS_PROSTATE/PROSTATE158/train\"\n",
    "T2,ADC,DWI, WG, _, _, Tumor_adc,Tumor_t2 = PCA_Utilities.Data_loaders.P158_load.Prostate158(base_path)\n",
    "\n",
    "# A survey regarding the number of Lesion appeared in those patients\n",
    "non_crit_pats = [key for key in T2.keys() if Tumor_adc[key].shape[0]==1]\n",
    "crit_pats = [key for key in T2.keys() if (Tumor_adc[key].shape[0]>1 and Tumor_t2[key].shape[0]>1)]\n",
    "#crit_pats.append(\"066\")\n",
    "print(\"Patients without ISUP<4: \",len(non_crit_pats))\n",
    "print(\"Patients with Isup>=4: \",len(crit_pats))\n",
    "a = [item for item in list(T2.keys()) if item not in non_crit_pats]\n",
    "a = [item for item in a if item not in crit_pats]"
   ]
  },
  {
   "cell_type": "code",
   "execution_count": null,
   "metadata": {},
   "outputs": [],
   "source": [
    "# perform Preprocessing operations\n",
    "T2,Tumor_T2,WG_Dilated = Preprocessing_Steps(T2,WG,Tumor_t2)"
   ]
  },
  {
   "cell_type": "code",
   "execution_count": null,
   "metadata": {},
   "outputs": [],
   "source": [
    "# keeping only patients with Tumor\n",
    "T2_tums = {}\n",
    "Tum_labs = {}\n",
    "for key in Tumor_T2.keys():\n",
    "    if len(Tumor_T2[key].shape) != 2:\n",
    "        T2_tums.update({key:T2[key]})\n",
    "        Tum_labs.update({key:Tumor_T2[key]})\n",
    "        \n",
    "# Creating The problem\n",
    "tr_ls = list(T2_tums.keys())\n",
    "tr_ls = tr_ls[:40]\n",
    "val_ls= tr_ls[40:] \n",
    "T2_tums_train = {key: T2_tums[key] for key in tr_ls}\n",
    "Tum_labs_train= {key: Tum_labs[key] for key in tr_ls}\n",
    "\n",
    "T2_tums_val = {key: T2_tums[key] for key in val_ls}\n",
    "Tum_labs_val= {key: Tum_labs[key] for key in val_ls}\n",
    "\n",
    "T2_tr = {}\n",
    "T2_vl = {}\n",
    "for key in T2_tums_train:\n",
    "    arr_3d = tf.keras.layers.Rescaling(1./255)(T2_tums_train[key])\n",
    "    T2_tr.update({key:tf.expand_dims(arr_3d,axis=-1)})\n",
    "for key in T2_tums_val:\n",
    "    arr_3d = tf.keras.layers.Rescaling(1./255)(T2_tums_val[key])\n",
    "    T2_vl.update({key:tf.expand_dims(arr_3d,axis=-1)})"
   ]
  },
  {
   "cell_type": "code",
   "execution_count": null,
   "metadata": {},
   "outputs": [],
   "source": [
    "# Parameters for training\n",
    "tf.config.run_functions_eagerly(True)\n",
    "tf.data.experimental.enable_debug_mode()\n",
    "SAVE_PATH = \"WEIGHTS\"\n",
    "\n",
    "BATCH_SIZE = 2\n",
    "STEPS_PER_EPOCH = len(T2_tr)//BATCH_SIZE\n",
    "INIT_LR    = 0.0001\n",
    "CLR        = tfa.optimizers.CyclicalLearningRate(initial_learning_rate = INIT_LR, maximal_learning_rate = 100*INIT_LR, scale_fn =lambda x:1/(2.**(x-1)),step_size=2 * STEPS_PER_EPOCH)\n",
    "OPTIMIZER  = tf.optimizers.Adam(CLR)\n",
    "LOSS       = tfa.losses.sigmoid_focal_crossentropy\n",
    "EPOCHS     = 50\n",
    "FILTERS    = [32,64,128,256,512,1024]\n",
    "DenseModel = PCA_Utilities.Segmentation_Models.Models_3D.DenseUNET3D.DenseUNet3D(num_classes = 1, filters = FILTERS,num_convs=2)\n",
    "DenseModel.training = True\n",
    "\n",
    "DenseModel.compile(\n",
    "    loss=LOSS,\n",
    "    optimizer=OPTIMIZER,\n",
    "    metrics=[\"acc\"])\n",
    "\n",
    "history = DenseModel.fit(x=np.array(list(T2_tr.values())),y=np.array(list(Tum_labs_train.values())), #[data_train,data_train,data_train]\n",
    "                    validation_data=(np.array(list(T2_vl.values())),np.array(list(Tum_labs_val.values()))), #[data_val,data_val,data_val]\n",
    "                    batch_size=BATCH_SIZE,\n",
    "                    epochs=EPOCHS,\n",
    "                    shuffle=True,\n",
    "                    verbose=1,\n",
    "                    callbacks=[PCA_Utilities.Classification_Models_3D.CallBacks.EarlyStoppingMinLoss(patience = 5)])\n",
    "                    #PCA_Utilities.Classification_Models_3D.CallBacks.SaveModelH5(mod_nam = \"DenseUnet\", s_path = SAVE_PATH)])"
   ]
  }
 ],
 "metadata": {
  "kernelspec": {
   "display_name": "Python 3",
   "language": "python",
   "name": "python3"
  },
  "language_info": {
   "codemirror_mode": {
    "name": "ipython",
    "version": 3
   },
   "file_extension": ".py",
   "mimetype": "text/x-python",
   "name": "python",
   "nbconvert_exporter": "python",
   "pygments_lexer": "ipython3",
   "version": "3.8.16"
  },
  "orig_nbformat": 4,
  "vscode": {
   "interpreter": {
    "hash": "31f2aee4e71d21fbe5cf8b01ff0e069b9275f58929596ceb00d14d90e3e16cd6"
   }
  }
 },
 "nbformat": 4,
 "nbformat_minor": 2
}
