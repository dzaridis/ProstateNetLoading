{
 "cells": [
  {
   "cell_type": "code",
   "execution_count": 1,
   "metadata": {},
   "outputs": [],
   "source": [
    "import os\n",
    "import pandas as pd\n",
    "import numpy as np\n",
    "import pydicom as dcm\n",
    "import SimpleITK as sitk\n",
    "import ProstateNetLoaders\n",
    "pth = \"/home/nst/Desktop/Procancer/Datasets/PROSTATENET-LESIONS/Datasetv0.3/Patients/PCa-239402179041957440623792026735212837616\"\n",
    "metadata= pd.read_csv(\"/home/nst/Desktop/Dimitris_Deep_Learning/Lesion_Radiomics/results.csv\", \n",
    "                 names=[\"patient_id\", \"study_uid\", \"series_uid\", \"series_type\", \"series_type_heuristics\"])"
   ]
  },
  {
   "cell_type": "markdown",
   "metadata": {},
   "source": [
    "# 1. ALL in one Loader"
   ]
  },
  {
   "cell_type": "code",
   "execution_count": 18,
   "metadata": {},
   "outputs": [
    {
     "name": "stdout",
     "output_type": "stream",
     "text": [
      "dict_keys(['1.3.6.1.4.1.58108.1.87175058762966248438729854597427208030']) dict_keys(['1.3.6.1.4.1.58108.1.87175058762966248438729854597427208030'])\n"
     ]
    }
   ],
   "source": [
    "a = ProstateNetLoaders.ExecuteLoader.Execute(pth, metadata,  Heuristics = True) #  Patient's Path, Metadata Path, choose between Heuristics (True) or AI (False)\n",
    "a.LoadArrays(orientation=\"AX\", seq=\"T2\")\n",
    "pat,ann = a.GetItems() # returns 2 dictionaries the patient and annotation dictionaries.\n",
    "#They contain patient series and corresponding annotation respectively. Kyes are series, values are image arrays\n",
    "print(pat.keys(), ann.keys()) "
   ]
  },
  {
   "attachments": {},
   "cell_type": "markdown",
   "metadata": {},
   "source": [
    "# 2. Components"
   ]
  },
  {
   "cell_type": "markdown",
   "metadata": {},
   "source": [
    "# (a) series Loader"
   ]
  },
  {
   "cell_type": "code",
   "execution_count": null,
   "metadata": {},
   "outputs": [],
   "source": [
    "ImObj = ProstateNetLoaders.SeriesPathLoaders.ProstateNetPathLoaders(pth)\n",
    "ImObj.SeriesLoader() # loads the series dictionaries ({series name : series path})\n",
    "ImObj.LoadObjects() # create sitk objects to extract information from\n",
    "ImObj.LoadSeriesDescription() # returns the description of each series in a dict for a single patient\n",
    "ser, descr = ImObj.GetSitkObjSerDescr() # get the paths to the corresponding series\n"
   ]
  },
  {
   "cell_type": "code",
   "execution_count": null,
   "metadata": {},
   "outputs": [],
   "source": [
    "ser "
   ]
  },
  {
   "cell_type": "code",
   "execution_count": null,
   "metadata": {},
   "outputs": [],
   "source": [
    "descr"
   ]
  },
  {
   "attachments": {},
   "cell_type": "markdown",
   "metadata": {},
   "source": [
    "# (b) selection of the sequence"
   ]
  },
  {
   "cell_type": "code",
   "execution_count": null,
   "metadata": {},
   "outputs": [],
   "source": [
    "ses = ProstateNetLoaders.SeriesPathLoaders.SequenceSelectorAI(pth, metadata)\n",
    "ses.SetSeriesSequences(orientation=\"AX\")\n",
    "ser_dicts = ses.GetSeriesSequences()\n",
    "ser_dicts\n"
   ]
  },
  {
   "attachments": {},
   "cell_type": "markdown",
   "metadata": {},
   "source": [
    "# (c) array and sitk image object loading"
   ]
  },
  {
   "cell_type": "code",
   "execution_count": null,
   "metadata": {},
   "outputs": [],
   "source": [
    "series = {\"1.3.6.1.4.1.58108.1.245617002898264363567933084613617434228\":ser[\"1.3.6.1.4.1.58108.1.245617002898264363567933084613617434228\"]}\n",
    "\n",
    "arrobj = ProstateNetLoaders.SeriesPathLoaders.ArrayLoad(series)\n",
    "arrobj.LoadITKobjects()\n",
    "arr =arrobj.GetArray()\n",
    "im = arrobj.GetImobj()\n",
    "arr[\"1.3.6.1.4.1.58108.1.245617002898264363567933084613617434228\"].shape\n"
   ]
  },
  {
   "cell_type": "markdown",
   "metadata": {},
   "source": [
    "# (d) Segmentations Loading"
   ]
  },
  {
   "cell_type": "code",
   "execution_count": null,
   "metadata": {},
   "outputs": [],
   "source": [
    "ld = ProstateNetLoaders.SegmentationLoaders.SegmentationLoader(pth, metadata)\n",
    "ms  = ld.LoadMaskPath()\n",
    "ld.SetOrderFiles()\n",
    "ld.SetPosMask()\n",
    "Anno = ld.MatchAnno()\n",
    "Anno.shape"
   ]
  },
  {
   "cell_type": "code",
   "execution_count": null,
   "metadata": {},
   "outputs": [],
   "source": [
    "import plotly.express as px\n",
    "\n",
    "fig = px.imshow(arr['1.3.6.1.4.1.58108.1.245617002898264363567933084613617434228'] + 800*Anno, animation_frame=0,binary_string=True)\n",
    "fig.show()"
   ]
  },
  {
   "attachments": {},
   "cell_type": "markdown",
   "metadata": {},
   "source": [
    "-------------"
   ]
  },
  {
   "cell_type": "code",
   "execution_count": null,
   "metadata": {},
   "outputs": [],
   "source": [
    "pth_batch = \"/home/nst/Desktop/Procancer/Datasets/PROSTATENET-LESIONS/Datasetv0.3/Patients\"\n",
    "patients = {}\n",
    "Sequence = \"T2\"\n",
    "T2_absence = []\n",
    "for patient in os.listdir(pth_batch):\n",
    "    pat = os.path.join(pth_batch,patient)\n",
    "    a = ProstateNetLoaders.ExecuteLoader.Execute(pat, metadata)\n",
    "    try:\n",
    "        a.LoadArrays(orientation=\"AX\", seq=Sequence)\n",
    "        pat,ann = a.GetItems()\n",
    "        patients.update({patient:{Sequence:np.array(list(pat.values())[0]),\"Lesion\": np.array(list(ann.values())[0])}})\n",
    "    except: \n",
    "        T2_absence.append(patient)\n",
    "        continue"
   ]
  },
  {
   "cell_type": "code",
   "execution_count": null,
   "metadata": {},
   "outputs": [],
   "source": [
    "len(patients)"
   ]
  },
  {
   "cell_type": "code",
   "execution_count": null,
   "metadata": {},
   "outputs": [],
   "source": [
    "T2_absence"
   ]
  },
  {
   "cell_type": "code",
   "execution_count": null,
   "metadata": {},
   "outputs": [],
   "source": []
  }
 ],
 "metadata": {
  "kernelspec": {
   "display_name": "tensorflow",
   "language": "python",
   "name": "python3"
  },
  "language_info": {
   "codemirror_mode": {
    "name": "ipython",
    "version": 3
   },
   "file_extension": ".py",
   "mimetype": "text/x-python",
   "name": "python",
   "nbconvert_exporter": "python",
   "pygments_lexer": "ipython3",
   "version": "3.6.13"
  },
  "orig_nbformat": 4,
  "vscode": {
   "interpreter": {
    "hash": "68a735cf67208c24b50f7a40da3195535810dd3e0b925bd50e0d39a00408b84d"
   }
  }
 },
 "nbformat": 4,
 "nbformat_minor": 2
}
