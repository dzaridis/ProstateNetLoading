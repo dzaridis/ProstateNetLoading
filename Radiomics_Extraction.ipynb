{
 "cells": [
  {
   "cell_type": "code",
   "execution_count": 1,
   "metadata": {},
   "outputs": [],
   "source": [
    "import os\n",
    "import numpy as np\n",
    "import pydicom as dcm\n",
    "import SimpleITK as sitk\n",
    "import ProstateNetLoaders\n",
    "pth = \"/home/nst/Desktop/Procancer/Datasets/PROSTATENET-LESIONS/Datasetv0.3/Patients/PCa-81176785222695167173334313483047537384\""
   ]
  },
  {
   "cell_type": "code",
   "execution_count": null,
   "metadata": {},
   "outputs": [],
   "source": [
    "ser = {}\n",
    "for study_item in os.listdir(pth):\n",
    "    stud = os.path.join(pth, study_item)\n",
    "    for series_item in os.listdir(stud):\n",
    "        ser.update({series_item: os.path.join(stud, series_item)})\n",
    "        "
   ]
  },
  {
   "cell_type": "code",
   "execution_count": null,
   "metadata": {},
   "outputs": [],
   "source": [
    "help(ImObj)"
   ]
  },
  {
   "cell_type": "code",
   "execution_count": 2,
   "metadata": {},
   "outputs": [],
   "source": [
    "ImObj = ProstateNetLoaders.SeriesPathLoaders.ProstateNetPathLoaders(pth)\n",
    "ImObj.SeriesLoader() # loads the series dictionaries ({series name : series path})\n",
    "ImObj.LoadObjects() # create sitk objects to extract information from\n",
    "ImObj.LoadSeriesDescription() # returns the description of each series in a dict for a single patient\n",
    "ser, descr = ImObj.GetSitkObjSerDescr() # get the paths to the corresponding series\n"
   ]
  },
  {
   "cell_type": "code",
   "execution_count": 3,
   "metadata": {},
   "outputs": [
    {
     "name": "stdout",
     "output_type": "stream",
     "text": [
      "dict_values(['t2_tse_tra_snel', 't2_tse_tra_snel _Lesions', 't2_tse_cor', 'ep2d_diff_tra_ADC_DFC', 'ep2d_diff_tra_CALC_BVAL_DFC', 't2_tse_sag'])\n"
     ]
    },
    {
     "data": {
      "text/plain": [
       "{'1.3.6.1.4.1.58108.1.65909126714419435040668926378625127264': 'T2',\n",
       " '1.3.6.1.4.1.58108.1.158753492575670379859076905875100017484': 'ADC',\n",
       " '1.3.6.1.4.1.58108.1.167740077491027472486865881253184839632': 'DWI'}"
      ]
     },
     "execution_count": 3,
     "metadata": {},
     "output_type": "execute_result"
    }
   ],
   "source": [
    "ses = ProstateNetLoaders.SeriesPathLoaders.SequenceSelector(pth)\n",
    "ses.SetSeriesSequences(orientation=\"AX\")\n",
    "ser_dicts = ses.GetSeriesSequences()\n",
    "ser_dicts\n"
   ]
  },
  {
   "cell_type": "code",
   "execution_count": null,
   "metadata": {},
   "outputs": [],
   "source": [
    "ser[\"1.3.6.1.4.1.58108.1.65909126714419435040668926378625127264\"]\n",
    "arrobj = ProstateNetLoaders.SeriesPathLoaders.ArrayLoad(pth)\n",
    "arrobj.LoadITKobjects()\n",
    "arrobj.GetArray()\n",
    "arrobj.GetImobj()"
   ]
  },
  {
   "cell_type": "code",
   "execution_count": null,
   "metadata": {},
   "outputs": [],
   "source": [
    "ld = ProstateNetLoaders.SegmentationLoaders.SegmentationLoader(pth)\n",
    "ms  = ld.LoadMaskPath()\n",
    "ld.SetOrderFiles()\n",
    "ld.SetPosMask()\n",
    "Anno = ld.MatchAnno()"
   ]
  }
 ],
 "metadata": {
  "kernelspec": {
   "display_name": "tensorflow",
   "language": "python",
   "name": "python3"
  },
  "language_info": {
   "codemirror_mode": {
    "name": "ipython",
    "version": 3
   },
   "file_extension": ".py",
   "mimetype": "text/x-python",
   "name": "python",
   "nbconvert_exporter": "python",
   "pygments_lexer": "ipython3",
   "version": "3.6.13"
  },
  "orig_nbformat": 4,
  "vscode": {
   "interpreter": {
    "hash": "68a735cf67208c24b50f7a40da3195535810dd3e0b925bd50e0d39a00408b84d"
   }
  }
 },
 "nbformat": 4,
 "nbformat_minor": 2
}
