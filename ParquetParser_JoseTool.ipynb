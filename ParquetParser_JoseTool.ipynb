{
 "cells": [
  {
   "cell_type": "code",
   "execution_count": 46,
   "metadata": {},
   "outputs": [],
   "source": [
    "import pandas as pd\n",
    "import os \n",
    "\n",
    "csv = \"/home/nst/Desktop/Procancer/Datasets/PROSTATENET-LESIONS/Datasetv0.3/newparq.parquet\"\n",
    "df= pd.read_parquet(csv)\n",
    "ls_pats = os.listdir(\"/home/nst/Desktop/Procancer/Datasets/PROSTATENET-LESIONS/Datasetv0.3/Patients\")\n",
    "df_filt = df[df[\"patient_id\"].isin(ls_pats)]\n",
    "\n",
    "features = [\"patient_id\",\n",
    "\"study_uid\",\n",
    "\"series_uid\",\n",
    "\"number_of_images\",\n",
    "\"diffusion_bvalue\",\n",
    "\"diffusion_directionality\",\n",
    "\"echo_time\",\n",
    "\"echo_train_length\",\n",
    "\"repetition_time\",\n",
    "\"flip_angle\",\n",
    "\"in_plane_phase_encoding_direction\",\n",
    "\"mr_acquisition_type\",\n",
    "\"acquisition_matrix\",\n",
    "\"patient_position\",\n",
    "\"reconstruction_matrix\",\n",
    "\"magnetic_field_strength\",\n",
    "\"manufacturer\",\n",
    "\"manufacturer_model_name\",\n",
    "\"number_of_phase_encoding_steps\",\n",
    "\"percent_phase_field_of_view\",\n",
    "\"pixel_bandwidth\",\n",
    "\"receive_coil_name\",\n",
    "\"transmit_coil_name\",\n",
    "\"sar\",\n",
    "\"scanning_sequence\",\n",
    "\"sequence_variant\",\n",
    "\"slice_thickness\",\n",
    "\"software_versions\",\n",
    "\"temporal_resolution\",\n",
    "\"image_orientation_patient\",\n",
    "\"image_type\",\n",
    "\"scan_options\",\n",
    "\"photometric_interpretation\",\n",
    "\"spectrally_selected_suppression\",\n",
    "\"inversion_time\",\n",
    "\"pixel_spacing\",\n",
    "\"number_of_echos\",\n",
    "\"number_of_temporal_positions\",\n",
    "\"modality\",\n",
    "\"series_description\"]\n",
    "\n",
    "df_filt = df_filt.loc[:,features]"
   ]
  },
  {
   "cell_type": "code",
   "execution_count": 47,
   "metadata": {},
   "outputs": [],
   "source": [
    "\n",
    "df_filt.to_csv(\"/home/nst/Desktop/Procancer/Datasets/PROSTATENET-LESIONS/Datasetv0.3/tsv_file.tsv\")"
   ]
  },
  {
   "cell_type": "code",
   "execution_count": 65,
   "metadata": {},
   "outputs": [
    {
     "name": "stdout",
     "output_type": "stream",
     "text": [
      "pcr.procancer-i.eu/metadata-classification/metadata-classification@sha256:d044e1739387aa5ec61c16144244577bb341ef5b09a0dbcfccde1fb72809d7a8: Pulling from metadata-classification/metadata-classification\n",
      "\n",
      "\u001b[1B9e379b3b: Already exists \n",
      "\u001b[1Bdb60cc32: Already exists \n",
      "\u001b[1Bccf6c129: Already exists \n",
      "\u001b[1Bc20e1a4f: Already exists \n",
      "\u001b[1B5e924378: Already exists \n",
      "\u001b[1Bd0846a74: Already exists \n",
      "\u001b[1Bb700ef54: Already exists \n",
      "\u001b[1Ba554eafd: Already exists \n",
      "\u001b[1Bc1d0ea12: Already exists \n",
      "\u001b[1Bcb00f60e: Already exists \n",
      "\u001b[1B195a526f: Already exists \n",
      "\u001b[1B3779a4fd: Already exists \n",
      "\u001b[1B09e611fa: Already exists \n",
      "\u001b[1B856266b0: Already exists \n",
      "\u001b[1Bf4f8c7a5: Already exists \n",
      "\u001b[1Bf833ccef: Already exists \n",
      "\u001b[1Bd420d3d2: Pulling fs layer \n",
      "\u001b[1B1c2bea1c: Pulling fs layer \n",
      "\u001b[1Bcd81a347: Pull complete  346B/346B4kBB\u001b[3A\u001b[2K\u001b[2A\u001b[2K\u001b[2A\u001b[2K\u001b[1A\u001b[2K\u001b[1A\u001b[2KDigest: sha256:d044e1739387aa5ec61c16144244577bb341ef5b09a0dbcfccde1fb72809d7a8\n",
      "Status: Downloaded newer image for pcr.procancer-i.eu/metadata-classification/metadata-classification@sha256:d044e1739387aa5ec61c16144244577bb341ef5b09a0dbcfccde1fb72809d7a8\n",
      "pcr.procancer-i.eu/metadata-classification/metadata-classification@sha256:d044e1739387aa5ec61c16144244577bb341ef5b09a0dbcfccde1fb72809d7a8\n"
     ]
    }
   ],
   "source": [
    "! docker pull pcr.procancer-i.eu/metadata-classification/metadata-classification@sha256:d044e1739387aa5ec61c16144244577bb341ef5b09a0dbcfccde1fb72809d7a8"
   ]
  },
  {
   "cell_type": "code",
   "execution_count": 85,
   "metadata": {},
   "outputs": [
    {
     "name": "stdout",
     "output_type": "stream",
     "text": [
      "usage: predict.py [-h] --input_path INPUT_PATH\n",
      "                  [--model_paths MODEL_PATHS [MODEL_PATHS ...]]\n",
      "predict.py: error: argument --input_path: expected one argument\n"
     ]
    }
   ],
   "source": [
    "! docker run  -v \"ex_file.tsv\":/data -it --rm 'pcr.procancer-i.eu/metadata-classification/metadata-classification':'tsv'"
   ]
  },
  {
   "cell_type": "code",
   "execution_count": 73,
   "metadata": {},
   "outputs": [
    {
     "name": "stdout",
     "output_type": "stream",
     "text": [
      "REPOSITORY                                                           TAG       IMAGE ID       CREATED         SIZE\n",
      "pcr.procancer-i.eu/metadata-classification/metadata-classification   tsv       9ff260e4cacd   19 hours ago    1.42GB\n",
      "hello-world                                                          latest    feb5d9fea6a5   17 months ago   13.3kB\n"
     ]
    }
   ],
   "source": [
    "! docker image ls"
   ]
  },
  {
   "cell_type": "code",
   "execution_count": 78,
   "metadata": {},
   "outputs": [
    {
     "name": "stdout",
     "output_type": "stream",
     "text": [
      "/home/nst/Desktop/Dimitris_Deep_Learning/Lesion Radiomics\n"
     ]
    }
   ],
   "source": [
    "! pwd"
   ]
  },
  {
   "cell_type": "code",
   "execution_count": null,
   "metadata": {},
   "outputs": [],
   "source": []
  }
 ],
 "metadata": {
  "kernelspec": {
   "display_name": "tensorflow",
   "language": "python",
   "name": "python3"
  },
  "language_info": {
   "codemirror_mode": {
    "name": "ipython",
    "version": 3
   },
   "file_extension": ".py",
   "mimetype": "text/x-python",
   "name": "python",
   "nbconvert_exporter": "python",
   "pygments_lexer": "ipython3",
   "version": "3.6.13"
  },
  "orig_nbformat": 4,
  "vscode": {
   "interpreter": {
    "hash": "68a735cf67208c24b50f7a40da3195535810dd3e0b925bd50e0d39a00408b84d"
   }
  }
 },
 "nbformat": 4,
 "nbformat_minor": 2
}
