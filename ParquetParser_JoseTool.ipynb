{
 "cells": [
  {
   "cell_type": "markdown",
   "metadata": {},
   "source": [
    "# 1. Read the initial parquet file you have downloaded from prostate net platform"
   ]
  },
  {
   "cell_type": "code",
   "execution_count": 59,
   "metadata": {},
   "outputs": [],
   "source": [
    "import pandas as pd\n",
    "import os \n",
    "\n",
    "csv = \"/home/nst/Desktop/Procancer/Datasets/PROSTATENET-LESIONS/Datasetv0.3/newparq.parquet\"\n",
    "df= pd.read_parquet(csv) # read parquet\n",
    "ls_pats = os.listdir(\"/home/nst/Desktop/Procancer/Datasets/PROSTATENET-LESIONS/Datasetv0.3/Patients\") # go to patients folder (patients are onto and contains studies-series-dicom files)\n",
    "df_filt = df[df[\"patient_id\"].isin(ls_pats)]  # keep only the patients u wish \n"
   ]
  },
  {
   "cell_type": "markdown",
   "metadata": {},
   "source": [
    "# 2. Keep necessary features for jose's docker"
   ]
  },
  {
   "cell_type": "code",
   "execution_count": null,
   "metadata": {},
   "outputs": [],
   "source": [
    "features = [\"patient_id\",\n",
    "\"study_uid\",\n",
    "\"series_uid\",\n",
    "\"number_of_images\",\n",
    "\"diffusion_bvalue\",\n",
    "\"diffusion_directionality\",\n",
    "\"echo_time\",\n",
    "\"echo_train_length\",\n",
    "\"repetition_time\",\n",
    "\"flip_angle\",\n",
    "\"in_plane_phase_encoding_direction\",\n",
    "\"mr_acquisition_type\",\n",
    "\"acquisition_matrix\",\n",
    "\"patient_position\",\n",
    "\"reconstruction_matrix\",\n",
    "\"magnetic_field_strength\",\n",
    "\"manufacturer\",\n",
    "\"manufacturer_model_name\",\n",
    "\"number_of_phase_encoding_steps\",\n",
    "\"percent_phase_field_of_view\",\n",
    "\"pixel_bandwidth\",\n",
    "\"receive_coil_name\",\n",
    "\"transmit_coil_name\",\n",
    "\"sar\",\n",
    "\"scanning_sequence\",\n",
    "\"sequence_variant\",\n",
    "\"slice_thickness\",\n",
    "\"software_versions\",\n",
    "\"temporal_resolution\",\n",
    "\"image_orientation_patient\",\n",
    "\"image_type\",\n",
    "\"scan_options\",\n",
    "\"photometric_interpretation\",\n",
    "\"spectrally_selected_suppression\",\n",
    "\"inversion_time\",\n",
    "\"pixel_spacing\",\n",
    "\"number_of_echos\",\n",
    "\"number_of_temporal_positions\",\n",
    "\"modality\",\n",
    "\"series_description\"]"
   ]
  },
  {
   "attachments": {},
   "cell_type": "markdown",
   "metadata": {},
   "source": [
    "# 3. Filter the dataframe and replace black space with \"-\" as follows"
   ]
  },
  {
   "cell_type": "code",
   "execution_count": 29,
   "metadata": {},
   "outputs": [],
   "source": [
    "df_filt = df_filt.loc[:,features]\n",
    "df_filt = df_filt.replace(to_replace=\"\", value=\"-\")"
   ]
  },
  {
   "attachments": {},
   "cell_type": "markdown",
   "metadata": {},
   "source": [
    "# 3. Produce the .tsv file (Jose's Docker takes tsv files as input)\n",
    "#### P.S. The tsv file needs to be names tsv_file.tsv otherwise docker will not work"
   ]
  },
  {
   "cell_type": "code",
   "execution_count": 30,
   "metadata": {},
   "outputs": [],
   "source": [
    "df_filt.to_csv(\"/home/nst/Desktop/Procancer/Datasets/PROSTATENET-LESIONS/Datasetv0.3/tsv_file.tsv\",sep=\"\\t\")"
   ]
  },
  {
   "cell_type": "markdown",
   "metadata": {},
   "source": [
    "# 4. Pull the docker image from harbor. It needs authentication"
   ]
  },
  {
   "cell_type": "code",
   "execution_count": null,
   "metadata": {},
   "outputs": [],
   "source": [
    "! docker pull pcr.procancer-i.eu/metadata-classification/metadata-classification@sha256:d044e1739387aa5ec61c16144244577bb341ef5b09a0dbcfccde1fb72809d7a8"
   ]
  },
  {
   "attachments": {},
   "cell_type": "markdown",
   "metadata": {},
   "source": [
    "# 5. Run the docker image. Volume is the path that contains the tsv_file.tsv. Also at the end add `/data/tsv_file.tsv >results.csv` to extract the outputs in a csv"
   ]
  },
  {
   "cell_type": "code",
   "execution_count": 54,
   "metadata": {},
   "outputs": [],
   "source": [
    "! docker run  -v \"/home/nst/Desktop/Dimitris_Deep_Learning/Lesion_Radiomics\":/data -it --rm 'pcr.procancer-i.eu/metadata-classification/metadata-classification:tsv' /data/tsv_file.tsv >results.csv"
   ]
  },
  {
   "attachments": {},
   "cell_type": "markdown",
   "metadata": {},
   "source": [
    "# 6. Read the CSV file you produced from step 5 and set the columns"
   ]
  },
  {
   "cell_type": "code",
   "execution_count": 60,
   "metadata": {},
   "outputs": [
    {
     "data": {
      "text/html": [
       "<div>\n",
       "<style scoped>\n",
       "    .dataframe tbody tr th:only-of-type {\n",
       "        vertical-align: middle;\n",
       "    }\n",
       "\n",
       "    .dataframe tbody tr th {\n",
       "        vertical-align: top;\n",
       "    }\n",
       "\n",
       "    .dataframe thead th {\n",
       "        text-align: right;\n",
       "    }\n",
       "</style>\n",
       "<table border=\"1\" class=\"dataframe\">\n",
       "  <thead>\n",
       "    <tr style=\"text-align: right;\">\n",
       "      <th></th>\n",
       "      <th>patient_id</th>\n",
       "      <th>study_uid</th>\n",
       "      <th>series_uid</th>\n",
       "      <th>series_type</th>\n",
       "      <th>series_type_heuristics</th>\n",
       "    </tr>\n",
       "  </thead>\n",
       "  <tbody>\n",
       "    <tr>\n",
       "      <th>0</th>\n",
       "      <td>PCa-281800825508578515144435818229752815516</td>\n",
       "      <td>1.3.6.1.4.1.58108.1.16256001161290267998269556...</td>\n",
       "      <td>1.3.6.1.4.1.58108.1.29364075866931413995773288...</td>\n",
       "      <td>OTHERS</td>\n",
       "      <td>OTHERS</td>\n",
       "    </tr>\n",
       "    <tr>\n",
       "      <th>1</th>\n",
       "      <td>PCa-135969383536126677583519258861681720456</td>\n",
       "      <td>1.3.6.1.4.1.58108.1.22651757944016428908315693...</td>\n",
       "      <td>1.3.6.1.4.1.58108.1.25095428435818490090531741...</td>\n",
       "      <td>DCE</td>\n",
       "      <td>DCE</td>\n",
       "    </tr>\n",
       "    <tr>\n",
       "      <th>2</th>\n",
       "      <td>PCa-303901718985542921512314477627180280896</td>\n",
       "      <td>1.3.6.1.4.1.58108.1.10607839931048332629189779...</td>\n",
       "      <td>1.3.6.1.4.1.58108.1.16677794868759826810731269...</td>\n",
       "      <td>OTHERS</td>\n",
       "      <td>T2</td>\n",
       "    </tr>\n",
       "    <tr>\n",
       "      <th>3</th>\n",
       "      <td>PCa-34148494147237367619235184665025094132</td>\n",
       "      <td>1.3.6.1.4.1.58108.1.12582474876076936654284528...</td>\n",
       "      <td>1.3.6.1.4.1.58108.1.30220701077754774736721399...</td>\n",
       "      <td>OTHERS</td>\n",
       "      <td>OTHERS</td>\n",
       "    </tr>\n",
       "    <tr>\n",
       "      <th>4</th>\n",
       "      <td>PCa-322811708477387603513790092385211486514</td>\n",
       "      <td>1.3.6.1.4.1.58108.1.10574491948317486064417202...</td>\n",
       "      <td>1.3.6.1.4.1.58108.1.84359734161400723681095382...</td>\n",
       "      <td>DCE</td>\n",
       "      <td>DCE</td>\n",
       "    </tr>\n",
       "    <tr>\n",
       "      <th>...</th>\n",
       "      <td>...</td>\n",
       "      <td>...</td>\n",
       "      <td>...</td>\n",
       "      <td>...</td>\n",
       "      <td>...</td>\n",
       "    </tr>\n",
       "    <tr>\n",
       "      <th>981</th>\n",
       "      <td>PCa-96799853096533800933501342060735272625</td>\n",
       "      <td>1.3.6.1.4.1.58108.1.23730826489225261695884119...</td>\n",
       "      <td>1.3.6.1.4.1.58108.1.51641186631464242703148643...</td>\n",
       "      <td>DWI</td>\n",
       "      <td>DWI</td>\n",
       "    </tr>\n",
       "    <tr>\n",
       "      <th>982</th>\n",
       "      <td>PCa-269375718944291990686518457660855358384</td>\n",
       "      <td>1.3.6.1.4.1.58108.1.75356085133065770878103654...</td>\n",
       "      <td>1.3.6.1.4.1.58108.1.24351937689592790156147560...</td>\n",
       "      <td>DWI</td>\n",
       "      <td>DWI</td>\n",
       "    </tr>\n",
       "    <tr>\n",
       "      <th>983</th>\n",
       "      <td>PCa-306053693953244553625602707659659138431</td>\n",
       "      <td>1.3.6.1.4.1.58108.1.25779762579249755756790059...</td>\n",
       "      <td>1.3.6.1.4.1.58108.1.30196138510031753827238274...</td>\n",
       "      <td>OTHERS</td>\n",
       "      <td>OTHERS</td>\n",
       "    </tr>\n",
       "    <tr>\n",
       "      <th>984</th>\n",
       "      <td>PCa-205409908134605906159119137085095268810</td>\n",
       "      <td>1.3.6.1.4.1.58108.1.93454360929944515045537574...</td>\n",
       "      <td>1.3.6.1.4.1.58108.1.10974175830493171774281547...</td>\n",
       "      <td>OTHERS</td>\n",
       "      <td>OTHERS</td>\n",
       "    </tr>\n",
       "    <tr>\n",
       "      <th>985</th>\n",
       "      <td>PCa-224460163592177244880977586344168516060</td>\n",
       "      <td>1.3.6.1.4.1.58108.1.24125651050895909277174943...</td>\n",
       "      <td>1.3.6.1.4.1.58108.1.13694613071415408500856358...</td>\n",
       "      <td>DCE</td>\n",
       "      <td>DCE</td>\n",
       "    </tr>\n",
       "  </tbody>\n",
       "</table>\n",
       "<p>986 rows × 5 columns</p>\n",
       "</div>"
      ],
      "text/plain": [
       "                                      patient_id  \\\n",
       "0    PCa-281800825508578515144435818229752815516   \n",
       "1    PCa-135969383536126677583519258861681720456   \n",
       "2    PCa-303901718985542921512314477627180280896   \n",
       "3     PCa-34148494147237367619235184665025094132   \n",
       "4    PCa-322811708477387603513790092385211486514   \n",
       "..                                           ...   \n",
       "981   PCa-96799853096533800933501342060735272625   \n",
       "982  PCa-269375718944291990686518457660855358384   \n",
       "983  PCa-306053693953244553625602707659659138431   \n",
       "984  PCa-205409908134605906159119137085095268810   \n",
       "985  PCa-224460163592177244880977586344168516060   \n",
       "\n",
       "                                             study_uid  \\\n",
       "0    1.3.6.1.4.1.58108.1.16256001161290267998269556...   \n",
       "1    1.3.6.1.4.1.58108.1.22651757944016428908315693...   \n",
       "2    1.3.6.1.4.1.58108.1.10607839931048332629189779...   \n",
       "3    1.3.6.1.4.1.58108.1.12582474876076936654284528...   \n",
       "4    1.3.6.1.4.1.58108.1.10574491948317486064417202...   \n",
       "..                                                 ...   \n",
       "981  1.3.6.1.4.1.58108.1.23730826489225261695884119...   \n",
       "982  1.3.6.1.4.1.58108.1.75356085133065770878103654...   \n",
       "983  1.3.6.1.4.1.58108.1.25779762579249755756790059...   \n",
       "984  1.3.6.1.4.1.58108.1.93454360929944515045537574...   \n",
       "985  1.3.6.1.4.1.58108.1.24125651050895909277174943...   \n",
       "\n",
       "                                            series_uid series_type  \\\n",
       "0    1.3.6.1.4.1.58108.1.29364075866931413995773288...      OTHERS   \n",
       "1    1.3.6.1.4.1.58108.1.25095428435818490090531741...         DCE   \n",
       "2    1.3.6.1.4.1.58108.1.16677794868759826810731269...      OTHERS   \n",
       "3    1.3.6.1.4.1.58108.1.30220701077754774736721399...      OTHERS   \n",
       "4    1.3.6.1.4.1.58108.1.84359734161400723681095382...         DCE   \n",
       "..                                                 ...         ...   \n",
       "981  1.3.6.1.4.1.58108.1.51641186631464242703148643...         DWI   \n",
       "982  1.3.6.1.4.1.58108.1.24351937689592790156147560...         DWI   \n",
       "983  1.3.6.1.4.1.58108.1.30196138510031753827238274...      OTHERS   \n",
       "984  1.3.6.1.4.1.58108.1.10974175830493171774281547...      OTHERS   \n",
       "985  1.3.6.1.4.1.58108.1.13694613071415408500856358...         DCE   \n",
       "\n",
       "    series_type_heuristics  \n",
       "0                   OTHERS  \n",
       "1                      DCE  \n",
       "2                       T2  \n",
       "3                   OTHERS  \n",
       "4                      DCE  \n",
       "..                     ...  \n",
       "981                    DWI  \n",
       "982                    DWI  \n",
       "983                 OTHERS  \n",
       "984                 OTHERS  \n",
       "985                    DCE  \n",
       "\n",
       "[986 rows x 5 columns]"
      ]
     },
     "execution_count": 60,
     "metadata": {},
     "output_type": "execute_result"
    }
   ],
   "source": [
    "df = pd.read_csv(\"/home/nst/Desktop/Dimitris_Deep_Learning/Lesion_Radiomics/results.csv\", names=[\"patient_id\", \"study_uid\", \"series_uid\", \"series_type\", \"series_type_heuristics\"])\n",
    "df"
   ]
  },
  {
   "cell_type": "code",
   "execution_count": null,
   "metadata": {},
   "outputs": [],
   "source": []
  }
 ],
 "metadata": {
  "kernelspec": {
   "display_name": "tensorflow",
   "language": "python",
   "name": "python3"
  },
  "language_info": {
   "codemirror_mode": {
    "name": "ipython",
    "version": 3
   },
   "file_extension": ".py",
   "mimetype": "text/x-python",
   "name": "python",
   "nbconvert_exporter": "python",
   "pygments_lexer": "ipython3",
   "version": "3.6.13"
  },
  "orig_nbformat": 4,
  "vscode": {
   "interpreter": {
    "hash": "68a735cf67208c24b50f7a40da3195535810dd3e0b925bd50e0d39a00408b84d"
   }
  }
 },
 "nbformat": 4,
 "nbformat_minor": 2
}
