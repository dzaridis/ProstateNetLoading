{
 "cells": [
  {
   "cell_type": "markdown",
   "metadata": {},
   "source": [
    "# 1. Read the initial parquet file you have downloaded from prostate net platform"
   ]
  },
  {
   "cell_type": "code",
   "execution_count": 1,
   "metadata": {},
   "outputs": [],
   "source": [
    "import pandas as pd\n",
    "import os \n",
    "\n",
    "csv = \"/home/nst/Desktop/Procancer/Datasets/PROSTATENET-LESIONS/Datasetv0.3/newparq.parquet\"\n",
    "df= pd.read_parquet(csv) # read parquet\n",
    "ls_pats = os.listdir(\"/home/nst/Desktop/Procancer/Datasets/PROSTATENET-LESIONS/Datasetv0.3/Patients\") # go to patients folder (patients are onto and contains studies-series-dicom files)\n",
    "df_filt = df[df[\"patient_id\"].isin(ls_pats)]  # keep only the patients u wish \n"
   ]
  },
  {
   "cell_type": "markdown",
   "metadata": {},
   "source": [
    "# 2. Keep necessary features for jose's docker"
   ]
  },
  {
   "cell_type": "code",
   "execution_count": 2,
   "metadata": {},
   "outputs": [],
   "source": [
    "features = [\"patient_id\",\n",
    "\"study_uid\",\n",
    "\"series_uid\",\n",
    "\"number_of_images\",\n",
    "\"diffusion_bvalue\",\n",
    "\"diffusion_directionality\",\n",
    "\"echo_time\",\n",
    "\"echo_train_length\",\n",
    "\"repetition_time\",\n",
    "\"flip_angle\",\n",
    "\"in_plane_phase_encoding_direction\",\n",
    "\"mr_acquisition_type\",\n",
    "\"acquisition_matrix\",\n",
    "\"patient_position\",\n",
    "\"reconstruction_matrix\",\n",
    "\"magnetic_field_strength\",\n",
    "\"manufacturer\",\n",
    "\"manufacturer_model_name\",\n",
    "\"number_of_phase_encoding_steps\",\n",
    "\"percent_phase_field_of_view\",\n",
    "\"pixel_bandwidth\",\n",
    "\"receive_coil_name\",\n",
    "\"transmit_coil_name\",\n",
    "\"sar\",\n",
    "\"scanning_sequence\",\n",
    "\"sequence_variant\",\n",
    "\"slice_thickness\",\n",
    "\"software_versions\",\n",
    "\"temporal_resolution\",\n",
    "\"image_orientation_patient\",\n",
    "\"image_type\",\n",
    "\"scan_options\",\n",
    "\"photometric_interpretation\",\n",
    "\"spectrally_selected_suppression\",\n",
    "\"inversion_time\",\n",
    "\"pixel_spacing\",\n",
    "\"number_of_echos\",\n",
    "\"number_of_temporal_positions\",\n",
    "\"modality\",\n",
    "\"series_description\"]"
   ]
  },
  {
   "attachments": {},
   "cell_type": "markdown",
   "metadata": {},
   "source": [
    "# 3. Filter the dataframe and replace black space with \"-\" as follows"
   ]
  },
  {
   "cell_type": "code",
   "execution_count": 3,
   "metadata": {},
   "outputs": [],
   "source": [
    "df_filt = df_filt.loc[:,features]\n",
    "df_filt = df_filt.replace(to_replace=\"\", value=\"-\")"
   ]
  },
  {
   "attachments": {},
   "cell_type": "markdown",
   "metadata": {},
   "source": [
    "# 3. Produce the .tsv file (Jose's Docker takes tsv files as input)\n",
    "#### P.S. The tsv file needs to be names tsv_file.tsv otherwise docker will not work"
   ]
  },
  {
   "cell_type": "code",
   "execution_count": 4,
   "metadata": {},
   "outputs": [],
   "source": [
    "df_filt.to_csv(\"/home/nst/Desktop/Dimitris_Deep_Learning/Lesion_Radiomics/tsv_file.tsv\",sep=\"\\t\")"
   ]
  },
  {
   "cell_type": "markdown",
   "metadata": {},
   "source": [
    "# 4. Pull the docker image from harbor. It needs authentication"
   ]
  },
  {
   "cell_type": "code",
   "execution_count": null,
   "metadata": {},
   "outputs": [],
   "source": [
    "! docker pull pcr.procancer-i.eu/metadata-classification/metadata-classification@sha256:d044e1739387aa5ec61c16144244577bb341ef5b09a0dbcfccde1fb72809d7a8"
   ]
  },
  {
   "attachments": {},
   "cell_type": "markdown",
   "metadata": {},
   "source": [
    "# 5. Run the docker image. Volume is the path that contains the tsv_file.tsv. Also at the end add `/data/tsv_file.tsv >results.csv` to extract the outputs in a csv"
   ]
  },
  {
   "cell_type": "code",
   "execution_count": 7,
   "metadata": {},
   "outputs": [],
   "source": [
    "! docker run  -v \"/home/nst/Desktop/Dimitris_Deep_Learning/Lesion_Radiomics\":/data -it --rm \n",
    "'pcr.procancer-i.eu/metadata-classification/metadata-classification:tsv' /data/tsv_file.tsv >results.csv"
   ]
  },
  {
   "attachments": {},
   "cell_type": "markdown",
   "metadata": {},
   "source": [
    "# 6. Read the CSV file you produced from step 5 and set the columns"
   ]
  },
  {
   "cell_type": "code",
   "execution_count": 8,
   "metadata": {},
   "outputs": [
    {
     "data": {
      "text/html": [
       "<div>\n",
       "<style scoped>\n",
       "    .dataframe tbody tr th:only-of-type {\n",
       "        vertical-align: middle;\n",
       "    }\n",
       "\n",
       "    .dataframe tbody tr th {\n",
       "        vertical-align: top;\n",
       "    }\n",
       "\n",
       "    .dataframe thead th {\n",
       "        text-align: right;\n",
       "    }\n",
       "</style>\n",
       "<table border=\"1\" class=\"dataframe\">\n",
       "  <thead>\n",
       "    <tr style=\"text-align: right;\">\n",
       "      <th></th>\n",
       "      <th>patient_id</th>\n",
       "      <th>study_uid</th>\n",
       "      <th>series_uid</th>\n",
       "      <th>series_type</th>\n",
       "      <th>series_type_heuristics</th>\n",
       "    </tr>\n",
       "  </thead>\n",
       "  <tbody>\n",
       "    <tr>\n",
       "      <th>0</th>\n",
       "      <td>PCa-224460163592177244880977586344168516060</td>\n",
       "      <td>1.3.6.1.4.1.58108.1.24125651050895909277174943...</td>\n",
       "      <td>1.3.6.1.4.1.58108.1.86528952413866730661368191...</td>\n",
       "      <td>DCE</td>\n",
       "      <td>DCE</td>\n",
       "    </tr>\n",
       "    <tr>\n",
       "      <th>1</th>\n",
       "      <td>PCa-322811708477387603513790092385211486514</td>\n",
       "      <td>1.3.6.1.4.1.58108.1.10574491948317486064417202...</td>\n",
       "      <td>1.3.6.1.4.1.58108.1.15196080904999324926032028...</td>\n",
       "      <td>OTHERS</td>\n",
       "      <td>OTHERS</td>\n",
       "    </tr>\n",
       "    <tr>\n",
       "      <th>2</th>\n",
       "      <td>PCa-128343693582576654198302883533313562452</td>\n",
       "      <td>1.3.6.1.4.1.58108.1.26462270923081528847454060...</td>\n",
       "      <td>1.3.6.1.4.1.58108.1.26844072371653350274060206...</td>\n",
       "      <td>OTHERS</td>\n",
       "      <td>OTHERS</td>\n",
       "    </tr>\n",
       "    <tr>\n",
       "      <th>3</th>\n",
       "      <td>PCa-34148494147237367619235184665025094132</td>\n",
       "      <td>1.3.6.1.4.1.58108.1.12582474876076936654284528...</td>\n",
       "      <td>1.3.6.1.4.1.58108.1.26114360012838052189904638...</td>\n",
       "      <td>OTHERS</td>\n",
       "      <td>OTHERS</td>\n",
       "    </tr>\n",
       "    <tr>\n",
       "      <th>4</th>\n",
       "      <td>PCa-43385374415423801322600884921397774294</td>\n",
       "      <td>1.3.6.1.4.1.58108.1.75509484004312114934226657...</td>\n",
       "      <td>1.3.6.1.4.1.58108.1.33297051103260127487400644...</td>\n",
       "      <td>DCE</td>\n",
       "      <td>DCE</td>\n",
       "    </tr>\n",
       "    <tr>\n",
       "      <th>...</th>\n",
       "      <td>...</td>\n",
       "      <td>...</td>\n",
       "      <td>...</td>\n",
       "      <td>...</td>\n",
       "      <td>...</td>\n",
       "    </tr>\n",
       "    <tr>\n",
       "      <th>981</th>\n",
       "      <td>PCa-193310775782366100721133747246861570224</td>\n",
       "      <td>1.3.6.1.4.1.58108.1.14776109988601235322337612...</td>\n",
       "      <td>1.3.6.1.4.1.58108.1.31154290060023308187736723...</td>\n",
       "      <td>DWI</td>\n",
       "      <td>DWI</td>\n",
       "    </tr>\n",
       "    <tr>\n",
       "      <th>982</th>\n",
       "      <td>PCa-196042475411156616056677980795637271534</td>\n",
       "      <td>1.3.6.1.4.1.58108.1.13121765398268351365499676...</td>\n",
       "      <td>1.3.6.1.4.1.58108.1.18321618761500318797447376...</td>\n",
       "      <td>ADC</td>\n",
       "      <td>ADC</td>\n",
       "    </tr>\n",
       "    <tr>\n",
       "      <th>983</th>\n",
       "      <td>PCa-44337912652508229499239407761343064689</td>\n",
       "      <td>1.3.6.1.4.1.58108.1.30020474920122346862583334...</td>\n",
       "      <td>1.3.6.1.4.1.58108.1.33548256302927534982775208...</td>\n",
       "      <td>ADC</td>\n",
       "      <td>ADC</td>\n",
       "    </tr>\n",
       "    <tr>\n",
       "      <th>984</th>\n",
       "      <td>PCa-326531208611654252353671329600896024008</td>\n",
       "      <td>1.3.6.1.4.1.58108.1.14224404972847540307144471...</td>\n",
       "      <td>1.3.6.1.4.1.58108.1.20687434097832528988778610...</td>\n",
       "      <td>DCE</td>\n",
       "      <td>DCE</td>\n",
       "    </tr>\n",
       "    <tr>\n",
       "      <th>985</th>\n",
       "      <td>PCa-71090464808536191185456700580009889271</td>\n",
       "      <td>1.3.6.1.4.1.58108.1.28176911129903877285760241...</td>\n",
       "      <td>1.3.6.1.4.1.58108.1.21591558879210723087189304...</td>\n",
       "      <td>DCE</td>\n",
       "      <td>DCE</td>\n",
       "    </tr>\n",
       "  </tbody>\n",
       "</table>\n",
       "<p>986 rows × 5 columns</p>\n",
       "</div>"
      ],
      "text/plain": [
       "                                      patient_id  \\\n",
       "0    PCa-224460163592177244880977586344168516060   \n",
       "1    PCa-322811708477387603513790092385211486514   \n",
       "2    PCa-128343693582576654198302883533313562452   \n",
       "3     PCa-34148494147237367619235184665025094132   \n",
       "4     PCa-43385374415423801322600884921397774294   \n",
       "..                                           ...   \n",
       "981  PCa-193310775782366100721133747246861570224   \n",
       "982  PCa-196042475411156616056677980795637271534   \n",
       "983   PCa-44337912652508229499239407761343064689   \n",
       "984  PCa-326531208611654252353671329600896024008   \n",
       "985   PCa-71090464808536191185456700580009889271   \n",
       "\n",
       "                                             study_uid  \\\n",
       "0    1.3.6.1.4.1.58108.1.24125651050895909277174943...   \n",
       "1    1.3.6.1.4.1.58108.1.10574491948317486064417202...   \n",
       "2    1.3.6.1.4.1.58108.1.26462270923081528847454060...   \n",
       "3    1.3.6.1.4.1.58108.1.12582474876076936654284528...   \n",
       "4    1.3.6.1.4.1.58108.1.75509484004312114934226657...   \n",
       "..                                                 ...   \n",
       "981  1.3.6.1.4.1.58108.1.14776109988601235322337612...   \n",
       "982  1.3.6.1.4.1.58108.1.13121765398268351365499676...   \n",
       "983  1.3.6.1.4.1.58108.1.30020474920122346862583334...   \n",
       "984  1.3.6.1.4.1.58108.1.14224404972847540307144471...   \n",
       "985  1.3.6.1.4.1.58108.1.28176911129903877285760241...   \n",
       "\n",
       "                                            series_uid series_type  \\\n",
       "0    1.3.6.1.4.1.58108.1.86528952413866730661368191...         DCE   \n",
       "1    1.3.6.1.4.1.58108.1.15196080904999324926032028...      OTHERS   \n",
       "2    1.3.6.1.4.1.58108.1.26844072371653350274060206...      OTHERS   \n",
       "3    1.3.6.1.4.1.58108.1.26114360012838052189904638...      OTHERS   \n",
       "4    1.3.6.1.4.1.58108.1.33297051103260127487400644...         DCE   \n",
       "..                                                 ...         ...   \n",
       "981  1.3.6.1.4.1.58108.1.31154290060023308187736723...         DWI   \n",
       "982  1.3.6.1.4.1.58108.1.18321618761500318797447376...         ADC   \n",
       "983  1.3.6.1.4.1.58108.1.33548256302927534982775208...         ADC   \n",
       "984  1.3.6.1.4.1.58108.1.20687434097832528988778610...         DCE   \n",
       "985  1.3.6.1.4.1.58108.1.21591558879210723087189304...         DCE   \n",
       "\n",
       "    series_type_heuristics  \n",
       "0                      DCE  \n",
       "1                   OTHERS  \n",
       "2                   OTHERS  \n",
       "3                   OTHERS  \n",
       "4                      DCE  \n",
       "..                     ...  \n",
       "981                    DWI  \n",
       "982                    ADC  \n",
       "983                    ADC  \n",
       "984                    DCE  \n",
       "985                    DCE  \n",
       "\n",
       "[986 rows x 5 columns]"
      ]
     },
     "execution_count": 8,
     "metadata": {},
     "output_type": "execute_result"
    }
   ],
   "source": [
    "df = pd.read_csv(\"/home/nst/Desktop/Dimitris_Deep_Learning/Lesion_Radiomics/results.csv\", \n",
    "                 names=[\"patient_id\", \"study_uid\", \"series_uid\", \"series_type\", \"series_type_heuristics\"])\n",
    "df"
   ]
  },
  {
   "cell_type": "code",
   "execution_count": null,
   "metadata": {},
   "outputs": [],
   "source": []
  }
 ],
 "metadata": {
  "kernelspec": {
   "display_name": "tensorflow",
   "language": "python",
   "name": "python3"
  },
  "language_info": {
   "codemirror_mode": {
    "name": "ipython",
    "version": 3
   },
   "file_extension": ".py",
   "mimetype": "text/x-python",
   "name": "python",
   "nbconvert_exporter": "python",
   "pygments_lexer": "ipython3",
   "version": "3.6.13"
  },
  "orig_nbformat": 4,
  "vscode": {
   "interpreter": {
    "hash": "68a735cf67208c24b50f7a40da3195535810dd3e0b925bd50e0d39a00408b84d"
   }
  }
 },
 "nbformat": 4,
 "nbformat_minor": 2
}
